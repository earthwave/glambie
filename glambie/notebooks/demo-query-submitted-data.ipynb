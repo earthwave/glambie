{
 "cells": [
  {
   "cell_type": "markdown",
   "metadata": {},
   "source": [
    "# Query submitted data from GlaMBIE submission system\n",
    "\n",
    "Demo on how to use the glambie code to query and show data from the submission system"
   ]
  },
  {
   "cell_type": "code",
   "execution_count": null,
   "metadata": {},
   "outputs": [],
   "source": [
    "import matplotlib.pyplot as plt\n",
    "from glambie.data.data_catalogue import DataCatalogue\n",
    "from glambie.plot.plot_helpers import get_colours, add_labels_axlines_and_title\n",
    "from glambie.plot.plot_helpers import (\n",
    "    plot_non_cumulative_timeseries_on_axis,\n",
    "    plot_cumulative_timeseries_on_axis,\n",
    ")\n",
    "from glambie.data import submission_system_interface"
   ]
  },
  {
   "cell_type": "markdown",
   "metadata": {},
   "source": [
    "#### Query and filter data"
   ]
  },
  {
   "cell_type": "code",
   "execution_count": null,
   "metadata": {},
   "outputs": [],
   "source": [
    "# read catalogue - this might take a while to download data from the submission system\n",
    "catalogue_original = DataCatalogue.from_glambie_submission_system()"
   ]
  },
  {
   "cell_type": "code",
   "execution_count": null,
   "metadata": {},
   "outputs": [],
   "source": [
    "# filter catalogue by region: we'll just query datasets over alaska\n",
    "catalogue_filtered = catalogue_original.get_filtered_catalogue(region_name=\"alaska\")"
   ]
  },
  {
   "cell_type": "code",
   "execution_count": null,
   "metadata": {},
   "outputs": [],
   "source": [
    "# Let's print all datasets in Alaska\n",
    "for d in catalogue_filtered.datasets:\n",
    "    print(f\"{d.region.name} \\t {d.data_group.name} \\t {d.user_group}\")"
   ]
  },
  {
   "cell_type": "markdown",
   "metadata": {},
   "source": [
    "### Plot all datasets from one group \n",
    "\n",
    "Now we will filter by region (Iceland) and data group (DEM DIfferencing) and plot all the datasets in one plot"
   ]
  },
  {
   "cell_type": "code",
   "execution_count": null,
   "metadata": {},
   "outputs": [],
   "source": [
    "# filter catalogue by region and datagroup\n",
    "catalogue_filtered_group = catalogue_original.get_filtered_catalogue(\n",
    "    region_name=\"iceland\", data_group=\"demdiff\"\n",
    ")\n",
    "plot_errors = True  # set to True if you want to plot error bars\n",
    "\n",
    "_, axes = plt.subplots(2, 1, figsize=(11, 6))\n",
    "colours = get_colours(len(catalogue_filtered_group.datasets) + 1)\n",
    "# plot non-cumulative timeseries\n",
    "for count, ds in enumerate(catalogue_filtered_group.datasets):\n",
    "    plot_non_cumulative_timeseries_on_axis(\n",
    "        result_dataframe=ds.data.as_dataframe(),\n",
    "        ax=axes[0],\n",
    "        colour=colours[count],\n",
    "        plot_errors=plot_errors,\n",
    "    )\n",
    "\n",
    "# plot cumulative timeseries\n",
    "for count, ds in enumerate(catalogue_filtered_group.datasets):\n",
    "    plot_cumulative_timeseries_on_axis(\n",
    "        timeseries=ds,\n",
    "        ax=axes[1],\n",
    "        colour=colours[count],\n",
    "        plot_errors=plot_errors,\n",
    "        linestyle=\"-\",\n",
    "        timeseries_for_vertical_adjustment=None,  # you can set this to a particular reference timeseries if you don't want the cumulative timeseries starting at 0 for each dataset\n",
    "        label=\"Dataset: \" + ds.user_group,\n",
    "    )\n",
    "\n",
    "add_labels_axlines_and_title(\n",
    "    axes=axes,\n",
    "    unit=catalogue_filtered_group.datasets[0].unit,\n",
    "    legend_fontsize=9,\n",
    "    title=\"\",\n",
    ")"
   ]
  },
  {
   "cell_type": "markdown",
   "metadata": {},
   "source": [
    "### Pick one dataset and look at it\n",
    "\n",
    "We'll now pick out one dataset and look at it's data and metadata and perform some simple operations"
   ]
  },
  {
   "cell_type": "code",
   "execution_count": null,
   "metadata": {},
   "outputs": [],
   "source": [
    "# pick a dataset to look at\n",
    "dataset = catalogue_filtered.datasets[9]\n",
    "# print some metadata\n",
    "print(\n",
    "    f\"region = {dataset.region.name} \\t data_group/source = {dataset.data_group.name} \\t author group = {dataset.user_group}  \\t unit = {dataset.unit}  \\t RGI version = {dataset.rgi_version}\"\n",
    ")\n",
    "# show first few rows of data of that dataset\n",
    "dataset.data.as_dataframe().head()"
   ]
  },
  {
   "cell_type": "code",
   "execution_count": null,
   "metadata": {},
   "outputs": [],
   "source": []
  },
  {
   "cell_type": "code",
   "execution_count": null,
   "metadata": {},
   "outputs": [],
   "source": [
    "# Show some more metadata...\n",
    "# The metadata comes as a dictionnary, here are the keys:\n",
    "print(dataset.additional_metadata.keys())\n",
    "# for example let's pick one key show co-authors\n",
    "print(\"Co-Authors: \", dataset.additional_metadata[\"co_author_names\"])"
   ]
  },
  {
   "cell_type": "code",
   "execution_count": null,
   "metadata": {},
   "outputs": [],
   "source": [
    "# Example how to convert to a different unit (in this case we convert from meter water equivalent to Gigatonnes)\n",
    "dataset_in_mwe = dataset.convert_timeseries_to_unit_mwe(rgi_area_version=6)\n",
    "dataset_in_mwe.data.as_dataframe().head()"
   ]
  },
  {
   "cell_type": "code",
   "execution_count": null,
   "metadata": {},
   "outputs": [],
   "source": [
    "# now the datasets have different units\n",
    "dataset.unit, dataset_in_mwe.unit"
   ]
  },
  {
   "cell_type": "code",
   "execution_count": null,
   "metadata": {},
   "outputs": [],
   "source": [
    "# Convert to annual trends\n",
    "# First we need to convert it to our evenly spaced grid\n",
    "dataset_date_grid = dataset_in_mwe.convert_timeseries_to_monthly_grid()\n",
    "dataset_annual = dataset_date_grid.convert_timeseries_to_annual_trends()"
   ]
  },
  {
   "cell_type": "code",
   "execution_count": null,
   "metadata": {},
   "outputs": [],
   "source": [
    "# Convert to a longterm_trend\n",
    "dataset_trend = dataset_date_grid.convert_timeseries_to_longterm_trend()\n",
    "dataset_trend.data.as_dataframe()"
   ]
  },
  {
   "cell_type": "markdown",
   "metadata": {},
   "source": [
    "#### Plot original dataset (in mwe), calculated annual rates and calculated longterm trend"
   ]
  },
  {
   "cell_type": "code",
   "execution_count": null,
   "metadata": {},
   "outputs": [],
   "source": [
    "plot_errors = False  # set to True if you want to plot error bars\n",
    "\n",
    "_, axes = plt.subplots(2, 1, figsize=(11, 6))\n",
    "colours = get_colours(3)\n",
    "\n",
    "# plot non-cumulative timeseries\n",
    "plot_non_cumulative_timeseries_on_axis(\n",
    "    result_dataframe=dataset_in_mwe.data.as_dataframe(),\n",
    "    ax=axes[0],\n",
    "    colour=colours[0],\n",
    "    plot_errors=plot_errors,\n",
    ")\n",
    "plot_non_cumulative_timeseries_on_axis(\n",
    "    result_dataframe=dataset_annual.data.as_dataframe(),\n",
    "    ax=axes[0],\n",
    "    colour=colours[1],\n",
    "    plot_errors=plot_errors,\n",
    ")\n",
    "plot_non_cumulative_timeseries_on_axis(\n",
    "    result_dataframe=dataset_trend.data.as_dataframe(),\n",
    "    ax=axes[0],\n",
    "    colour=colours[2],\n",
    "    plot_errors=plot_errors,\n",
    ")\n",
    "\n",
    "# plot cumulative timeseries\n",
    "plot_cumulative_timeseries_on_axis(\n",
    "    timeseries=dataset_in_mwe,\n",
    "    ax=axes[1],\n",
    "    colour=colours[0],\n",
    "    plot_errors=plot_errors,\n",
    "    linestyle=\"-\",\n",
    "    timeseries_for_vertical_adjustment=None,\n",
    "    label=\"Original dataset: \" + dataset_in_mwe.user_group,\n",
    ")\n",
    "plot_cumulative_timeseries_on_axis(\n",
    "    timeseries=dataset_annual,\n",
    "    ax=axes[1],\n",
    "    colour=colours[1],\n",
    "    plot_errors=plot_errors,\n",
    "    linestyle=\"-\",\n",
    "    timeseries_for_vertical_adjustment=dataset_in_mwe,  # vertically adjust to original dataset\n",
    "    label=\"Annual rates: \" + dataset_annual.user_group,\n",
    ")\n",
    "plot_cumulative_timeseries_on_axis(\n",
    "    timeseries=dataset_trend,\n",
    "    ax=axes[1],\n",
    "    colour=colours[2],\n",
    "    plot_errors=plot_errors,\n",
    "    linestyle=\"-\",\n",
    "    timeseries_for_vertical_adjustment=dataset_in_mwe,  # vertically adjust to original dataset\n",
    "    label=\"Trend: \" + dataset_trend.user_group,\n",
    ")\n",
    "\n",
    "add_labels_axlines_and_title(\n",
    "    axes=axes,\n",
    "    unit=catalogue_filtered_group.datasets[0].unit,\n",
    "    legend_fontsize=9,\n",
    "    title=\"\",\n",
    ")"
   ]
  },
  {
   "cell_type": "markdown",
   "metadata": {},
   "source": [
    "#### Download dataset information PDF of dataset\n",
    "\n",
    "Download the PDF submitted by the participants"
   ]
  },
  {
   "cell_type": "code",
   "execution_count": null,
   "metadata": {},
   "outputs": [],
   "source": [
    "# download PDF (by default it will be in the same directory as notebook is run unless target directory is specified)\n",
    "submission_system_interface.download_dataset_information_file_to_disk(\n",
    "    user_group=dataset.user_group, data_group=dataset.data_group, target_directory=\".\"\n",
    ")"
   ]
  }
 ],
 "metadata": {
  "kernelspec": {
   "display_name": "glambie",
   "language": "python",
   "name": "python3"
  },
  "language_info": {
   "codemirror_mode": {
    "name": "ipython",
    "version": 3
   },
   "file_extension": ".py",
   "mimetype": "text/x-python",
   "name": "python",
   "nbconvert_exporter": "python",
   "pygments_lexer": "ipython3",
   "version": "3.11.13"
  },
  "orig_nbformat": 4
 },
 "nbformat": 4,
 "nbformat_minor": 2
}
